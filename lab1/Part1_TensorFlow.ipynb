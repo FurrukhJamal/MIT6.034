{
  "cells": [
    {
      "cell_type": "markdown",
      "metadata": {
        "id": "view-in-github",
        "colab_type": "text"
      },
      "source": [
        "<a href=\"https://colab.research.google.com/github/FurrukhJamal/MIT6.034/blob/main/lab1/Part1_TensorFlow.ipynb\" target=\"_parent\"><img src=\"https://colab.research.google.com/assets/colab-badge.svg\" alt=\"Open In Colab\"/></a>"
      ]
    },
    {
      "cell_type": "markdown",
      "metadata": {
        "id": "WBk0ZDWY-ff8"
      },
      "source": [
        "<table align=\"center\">\n",
        "  <td align=\"center\"><a target=\"_blank\" href=\"http://introtodeeplearning.com\">\n",
        "        <img src=\"https://i.ibb.co/Jr88sn2/mit.png\" style=\"padding-bottom:5px;\" />\n",
        "      Visit MIT Deep Learning</a></td>\n",
        "  <td align=\"center\"><a target=\"_blank\" href=\"https://colab.research.google.com/github/aamini/introtodeeplearning/blob/master/lab1/Part1_TensorFlow.ipynb\">\n",
        "        <img src=\"https://i.ibb.co/2P3SLwK/colab.png\"  style=\"padding-bottom:5px;\" />Run in Google Colab</a></td>\n",
        "  <td align=\"center\"><a target=\"_blank\" href=\"https://github.com/aamini/introtodeeplearning/blob/master/lab1/Part1_TensorFlow.ipynb\">\n",
        "        <img src=\"https://i.ibb.co/xfJbPmL/github.png\"  height=\"70px\" style=\"padding-bottom:5px;\"  />View Source on GitHub</a></td>\n",
        "</table>\n",
        "\n",
        "\n",
        "# Copyright Information\n"
      ]
    },
    {
      "cell_type": "code",
      "execution_count": 1,
      "metadata": {
        "id": "3eI6DUic-6jo"
      },
      "outputs": [],
      "source": [
        "# Copyright 2024 MIT Introduction to Deep Learning. All Rights Reserved.\n",
        "#\n",
        "# Licensed under the MIT License. You may not use this file except in compliance\n",
        "# with the License. Use and/or modification of this code outside of MIT Introduction\n",
        "# to Deep Learning must reference:\n",
        "#\n",
        "# © MIT Introduction to Deep Learning\n",
        "# http://introtodeeplearning.com\n",
        "#"
      ]
    },
    {
      "cell_type": "markdown",
      "metadata": {
        "id": "57knM8jrYZ2t"
      },
      "source": [
        "# Lab 1: Intro to TensorFlow and Music Generation with RNNs\n",
        "\n",
        "In this lab, you'll get exposure to using TensorFlow and learn how it can be used for solving deep learning tasks. Go through the code and run each cell. Along the way, you'll encounter several ***TODO*** blocks -- follow the instructions to fill them out before running those cells and continuing.\n",
        "\n",
        "\n",
        "# Part 1: Intro to TensorFlow\n",
        "\n",
        "## 0.1 Install TensorFlow\n",
        "\n",
        "TensorFlow is a software library extensively used in machine learning. Here we'll learn how computations are represented and how to define a simple neural network in TensorFlow. For all the labs in Introduction to Deep Learning 2023, we'll be using the latest version of TensorFlow, TensorFlow 2, which affords great flexibility and the ability to imperatively execute operations, just like in Python. You'll notice that TensorFlow 2 is quite similar to Python in its syntax and imperative execution. Let's install TensorFlow and a couple of dependencies.\n"
      ]
    },
    {
      "cell_type": "code",
      "execution_count": 2,
      "metadata": {
        "id": "LkaimNJfYZ2w",
        "outputId": "328482e7-b4bb-4bce-ff04-d775f57f1423",
        "colab": {
          "base_uri": "https://localhost:8080/"
        }
      },
      "outputs": [
        {
          "output_type": "stream",
          "name": "stdout",
          "text": [
            "\u001b[?25l     \u001b[90m━━━━━━━━━━━━━━━━━━━━━━━━━━━━━━━━━━━━━━━━\u001b[0m \u001b[32m0.0/2.1 MB\u001b[0m \u001b[31m?\u001b[0m eta \u001b[36m-:--:--\u001b[0m\r\u001b[2K     \u001b[91m━━━━━━━━━━━━━━━━━━━━━━━━━━━━━━━━━━━━━━━\u001b[0m\u001b[91m╸\u001b[0m \u001b[32m2.1/2.1 MB\u001b[0m \u001b[31m149.9 MB/s\u001b[0m eta \u001b[36m0:00:01\u001b[0m\r\u001b[2K     \u001b[90m━━━━━━━━━━━━━━━━━━━━━━━━━━━━━━━━━━━━━━━━\u001b[0m \u001b[32m2.1/2.1 MB\u001b[0m \u001b[31m65.2 MB/s\u001b[0m eta \u001b[36m0:00:00\u001b[0m\n",
            "\u001b[?25h  Preparing metadata (setup.py) ... \u001b[?25l\u001b[?25hdone\n",
            "  Building wheel for mitdeeplearning (setup.py) ... \u001b[?25l\u001b[?25hdone\n"
          ]
        }
      ],
      "source": [
        "import tensorflow as tf\n",
        "\n",
        "# Download and import the MIT Introduction to Deep Learning package\n",
        "!pip install mitdeeplearning --quiet\n",
        "import mitdeeplearning as mdl\n",
        "\n",
        "import numpy as np\n",
        "import matplotlib.pyplot as plt"
      ]
    },
    {
      "cell_type": "code",
      "source": [
        "tensor = tf.constant([1, 2, 3, 4])\n",
        "print(tensor)\n",
        "npArr = tensor.numpy()\n",
        "print(npArr)"
      ],
      "metadata": {
        "id": "oAIMrsTRevZl",
        "outputId": "41a08a39-3c1e-4d4a-dd08-4354b7457e51",
        "colab": {
          "base_uri": "https://localhost:8080/"
        }
      },
      "execution_count": 3,
      "outputs": [
        {
          "output_type": "stream",
          "name": "stdout",
          "text": [
            "tf.Tensor([1 2 3 4], shape=(4,), dtype=int32)\n",
            "[1 2 3 4]\n"
          ]
        }
      ]
    },
    {
      "cell_type": "markdown",
      "metadata": {
        "id": "2QNMcdP4m3Vs"
      },
      "source": [
        "## 1.1 Why is TensorFlow called TensorFlow?\n",
        "\n",
        "TensorFlow is called 'TensorFlow' because it handles the flow (node/mathematical operation) of Tensors, which are data structures that you can think of as multi-dimensional arrays. Tensors are represented as n-dimensional arrays of base dataypes such as a string or integer -- they provide a way to generalize vectors and matrices to higher dimensions.\n",
        "\n",
        "The ```shape``` of a Tensor defines its number of dimensions and the size of each dimension. The ```rank``` of a Tensor provides the number of dimensions (n-dimensions) -- you can also think of this as the Tensor's order or degree.\n",
        "\n",
        "Let's first look at 0-d Tensors, of which a scalar is an example:"
      ]
    },
    {
      "cell_type": "code",
      "execution_count": 4,
      "metadata": {
        "id": "tFxztZQInlAB",
        "outputId": "bb191d7f-6281-4f67-bb02-aa6008383c0f",
        "colab": {
          "base_uri": "https://localhost:8080/"
        }
      },
      "outputs": [
        {
          "output_type": "stream",
          "name": "stdout",
          "text": [
            "shape of test : (2, 3)\n",
            "rank of test : 2\n",
            "`sport` is a 0-d Tensor\n",
            "`number` is a 0-d Tensor\n"
          ]
        }
      ],
      "source": [
        "sport = tf.constant(\"Tennis\", tf.string)\n",
        "number = tf.constant(1.41421356237, tf.float64)\n",
        "\n",
        "test = tf.Variable([[1, 2, 10], [3, 4, 10]])\n",
        "print(f\"shape of test : {test.shape}\")\n",
        "print(f\"rank of test : {tf.rank(test)}\")\n",
        "\n",
        "print(\"`sport` is a {}-d Tensor\".format(tf.rank(sport).numpy()))\n",
        "print(\"`number` is a {}-d Tensor\".format(tf.rank(number).numpy()))"
      ]
    },
    {
      "cell_type": "markdown",
      "metadata": {
        "id": "-dljcPUcoJZ6"
      },
      "source": [
        "Vectors and lists can be used to create 1-d Tensors:"
      ]
    },
    {
      "cell_type": "code",
      "execution_count": 5,
      "metadata": {
        "id": "oaHXABe8oPcO",
        "outputId": "a1887b0f-07b2-4508-b323-4b59f4b6584f",
        "colab": {
          "base_uri": "https://localhost:8080/"
        }
      },
      "outputs": [
        {
          "output_type": "stream",
          "name": "stdout",
          "text": [
            "`sports` is a 1-d Tensor with shape: [2]  \n",
            "`numbers` is a 1-d Tensor with shape: [3]\n",
            "sports.shape : (2,)\n"
          ]
        }
      ],
      "source": [
        "sports = tf.constant([\"Tennis\", \"Basketball\"], tf.string)\n",
        "numbers = tf.constant([3.141592, 1.414213, 2.71821], tf.float64)\n",
        "\n",
        "print(\"`sports` is a {}-d Tensor with shape: {}  \".format(tf.rank(sports).numpy(), tf.shape(sports)))\n",
        "print(\"`numbers` is a {}-d Tensor with shape: {}\".format(tf.rank(numbers).numpy(), tf.shape(numbers)))\n",
        "\n",
        "print(f\"sports.shape : {sports.shape}\")"
      ]
    },
    {
      "cell_type": "markdown",
      "metadata": {
        "id": "gvffwkvtodLP"
      },
      "source": [
        "Next we consider creating 2-d (i.e., matrices) and higher-rank Tensors. For examples, in future labs involving image processing and computer vision, we will use 4-d Tensors. Here the dimensions correspond to the number of example images in our batch, image height, image width, and the number of color channels."
      ]
    },
    {
      "cell_type": "code",
      "execution_count": 6,
      "metadata": {
        "id": "tFeBBe1IouS3"
      },
      "outputs": [],
      "source": [
        "### Defining higher-order Tensors ###\n",
        "\n",
        "'''TODO: Define a 2-d Tensor'''\n",
        "matrix = tf.constant([[1,2], [2, 3]])\n",
        "\n",
        "assert isinstance(matrix, tf.Tensor), \"matrix must be a tf Tensor object\"\n",
        "assert tf.rank(matrix).numpy() == 2"
      ]
    },
    {
      "cell_type": "code",
      "execution_count": 7,
      "metadata": {
        "id": "Zv1fTn_Ya_cz"
      },
      "outputs": [],
      "source": [
        "'''TODO: Define a 4-d Tensor.'''\n",
        "# Use tf.zeros to initialize a 4-d Tensor of zeros with size 10 x 256 x 256 x 3.\n",
        "#   You can think of this as 10 images where each image is RGB 256 x 256.\n",
        "images = tf.zeros((10, 256, 256, 3))\n",
        "\n",
        "assert isinstance(images, tf.Tensor), \"matrix must be a tf Tensor object\"\n",
        "assert tf.rank(images).numpy() == 4, \"matrix must be of rank 4\"\n",
        "assert tf.shape(images).numpy().tolist() == [10, 256, 256, 3], \"matrix is incorrect shape\""
      ]
    },
    {
      "cell_type": "markdown",
      "metadata": {
        "id": "wkaCDOGapMyl"
      },
      "source": [
        "As you have seen, the ```shape``` of a Tensor provides the number of elements in each Tensor dimension. The ```shape``` is quite useful, and we'll use it often. You can also use slicing to access subtensors within a higher-rank Tensor:"
      ]
    },
    {
      "cell_type": "code",
      "execution_count": 8,
      "metadata": {
        "id": "FhaufyObuLEG",
        "outputId": "cc678dad-b3a0-427b-b5c2-e4c537527c38",
        "colab": {
          "base_uri": "https://localhost:8080/"
        }
      },
      "outputs": [
        {
          "output_type": "stream",
          "name": "stdout",
          "text": [
            "`row_vector`: [2 3]\n",
            "`column_vector`: [2 3]\n",
            "`scalar`: 2\n"
          ]
        }
      ],
      "source": [
        "row_vector = matrix[1]\n",
        "column_vector = matrix[:,1]\n",
        "scalar = matrix[0, 1]\n",
        "\n",
        "print(\"`row_vector`: {}\".format(row_vector.numpy()))\n",
        "print(\"`column_vector`: {}\".format(column_vector.numpy()))\n",
        "print(\"`scalar`: {}\".format(scalar.numpy()))"
      ]
    },
    {
      "cell_type": "markdown",
      "metadata": {
        "id": "iD3VO-LZYZ2z"
      },
      "source": [
        "## 1.2 Computations on Tensors\n",
        "\n",
        "A convenient way to think about and visualize computations in TensorFlow is in terms of graphs. We can define this graph in terms of Tensors, which hold data, and the mathematical operations that act on these Tensors in some order. Let's look at a simple example, and define this computation using TensorFlow:\n",
        "\n",
        "![alt text](https://raw.githubusercontent.com/aamini/introtodeeplearning/master/lab1/img/add-graph.png)"
      ]
    },
    {
      "cell_type": "code",
      "execution_count": 9,
      "metadata": {
        "id": "X_YJrZsxYZ2z",
        "outputId": "0ee0ea2f-9d47-4549-8c56-64abd6c7db65",
        "colab": {
          "base_uri": "https://localhost:8080/"
        }
      },
      "outputs": [
        {
          "output_type": "stream",
          "name": "stdout",
          "text": [
            "tf.Tensor(76, shape=(), dtype=int32)\n",
            "tf.Tensor(76, shape=(), dtype=int32)\n"
          ]
        }
      ],
      "source": [
        "# Create the nodes in the graph, and initialize values\n",
        "a = tf.constant(15)\n",
        "b = tf.constant(61)\n",
        "\n",
        "# Add them!\n",
        "c1 = tf.add(a,b)\n",
        "c2 = a + b # TensorFlow overrides the \"+\" operation so that it is able to act on Tensors\n",
        "print(c1)\n",
        "print(c2)"
      ]
    },
    {
      "cell_type": "markdown",
      "metadata": {
        "id": "Mbfv_QOiYZ23"
      },
      "source": [
        "Notice how we've created a computation graph consisting of TensorFlow operations, and how  the output is a Tensor with value 76 -- we've just created a computation graph consisting of operations, and it's executed them and given us back the result.\n",
        "\n",
        "Now let's consider a slightly more complicated example:\n",
        "\n",
        "![alt text](https://raw.githubusercontent.com/aamini/introtodeeplearning/master/lab1/img/computation-graph.png)\n",
        "\n",
        "Here, we take two inputs, `a, b`, and compute an output `e`. Each node in the graph represents an operation that takes some input, does some computation, and passes its output to another node.\n",
        "\n",
        "Let's define a simple function in TensorFlow to construct this computation function:"
      ]
    },
    {
      "cell_type": "code",
      "execution_count": 10,
      "metadata": {
        "id": "PJnfzpWyYZ23",
        "scrolled": true
      },
      "outputs": [],
      "source": [
        "### Defining Tensor computations ###\n",
        "\n",
        "# Construct a simple computation function\n",
        "def func(a,b):\n",
        "  '''TODO: Define the operation for c, d, e (use tf.add, tf.subtract, tf.multiply).'''\n",
        "  c = tf.add(a,b)\n",
        "  d = tf.subtract(b,1)\n",
        "  e = tf.multiply(c, d)\n",
        "  return e"
      ]
    },
    {
      "cell_type": "markdown",
      "metadata": {
        "id": "AwrRfDMS2-oy"
      },
      "source": [
        "Now, we can call this function to execute the computation graph given some inputs `a,b`:"
      ]
    },
    {
      "cell_type": "code",
      "execution_count": 11,
      "metadata": {
        "id": "pnwsf8w2uF7p",
        "outputId": "37e80ae3-2b04-4914-d1ca-bfd4ac3b10cb",
        "colab": {
          "base_uri": "https://localhost:8080/"
        }
      },
      "outputs": [
        {
          "output_type": "stream",
          "name": "stdout",
          "text": [
            "tf.Tensor(6.0, shape=(), dtype=float32)\n"
          ]
        }
      ],
      "source": [
        "# Consider example values for a,b\n",
        "a, b = 1.5, 2.5\n",
        "# Execute the computation\n",
        "e_out = func(a,b)\n",
        "print(e_out)"
      ]
    },
    {
      "cell_type": "markdown",
      "metadata": {
        "id": "6HqgUIUhYZ29"
      },
      "source": [
        "Notice how our output is a Tensor with value defined by the output of the computation, and that the output has no shape as it is a single scalar value."
      ]
    },
    {
      "cell_type": "markdown",
      "metadata": {
        "id": "1h4o9Bb0YZ29"
      },
      "source": [
        "## 1.3 Neural networks in TensorFlow\n",
        "We can also define neural networks in TensorFlow. TensorFlow uses a high-level API called [Keras](https://www.tensorflow.org/guide/keras) that provides a powerful, intuitive framework for building and training deep learning models.\n",
        "\n",
        "Let's first consider the example of a simple perceptron defined by just one dense layer: $ y = \\sigma(Wx + b)$, where $W$ represents a matrix of weights, $b$ is a bias, $x$ is the input, $\\sigma$ is the sigmoid activation function, and $y$ is the output. We can also visualize this operation using a graph:\n",
        "\n",
        "![alt text](https://raw.githubusercontent.com/aamini/introtodeeplearning/master/lab1/img/computation-graph-2.png)\n",
        "\n",
        "Tensors can flow through abstract types called [```Layers```](https://www.tensorflow.org/api_docs/python/tf/keras/layers/Layer) -- the building blocks of neural networks. ```Layers``` implement common neural networks operations, and are used to update weights, compute losses, and define inter-layer connectivity. We will first define a ```Layer``` to implement the simple perceptron defined above."
      ]
    },
    {
      "cell_type": "code",
      "execution_count": 12,
      "metadata": {
        "id": "HutbJk-1kHPh",
        "outputId": "7a191632-fa16-4f25-e4cf-1c479cf8ff63",
        "colab": {
          "base_uri": "https://localhost:8080/"
        }
      },
      "outputs": [
        {
          "output_type": "stream",
          "name": "stdout",
          "text": [
            "d : 2\n",
            "[[0.27064407 0.1826951  0.50374055]]\n",
            "[PASS] test_custom_dense_layer_output\n"
          ]
        },
        {
          "output_type": "execute_result",
          "data": {
            "text/plain": [
              "True"
            ]
          },
          "metadata": {},
          "execution_count": 12
        }
      ],
      "source": [
        "### Defining a network Layer ###\n",
        "\n",
        "# n_output_nodes: number of output nodes\n",
        "# input_shape: shape of the input\n",
        "# x: input to the layer\n",
        "\n",
        "class OurDenseLayer(tf.keras.layers.Layer):\n",
        "  def __init__(self, n_output_nodes):\n",
        "    super(OurDenseLayer, self).__init__()\n",
        "    self.n_output_nodes = n_output_nodes\n",
        "\n",
        "  def build(self, input_shape):\n",
        "    d = int(input_shape[-1])\n",
        "    # Define and initialize parameters: a weight matrix W and bias b\n",
        "    # Note that parameter initialization is random!\n",
        "    print(f\"d : {d}\")\n",
        "    # self.W = self.add_weight(\"weight\", shape=[d, self.n_output_nodes]) # note the dimensionality\n",
        "    # self.b = self.add_weight(\"bias\", shape=[1, self.n_output_nodes]) # note the dimensionality\n",
        "\n",
        "     # Correct way to use add_weight with keyword arguments\n",
        "    self.W = self.add_weight(name=\"weight\", shape=[d, self.n_output_nodes]) # note the dimensionality\n",
        "    self.b = self.add_weight(name=\"bias\", shape=[1, self.n_output_nodes]) # note the dimensionality\n",
        "\n",
        "\n",
        "  def call(self, x):\n",
        "    '''TODO: define the operation for z (hint: use tf.matmul)'''\n",
        "    z = tf.add(tf.matmul(x, self.W), self.b)\n",
        "\n",
        "    '''TODO: define the operation for out (hint: use tf.sigmoid)'''\n",
        "    y = tf.sigmoid(z)\n",
        "    return y\n",
        "\n",
        "# Since layer parameters are initialized randomly, we will set a random seed for reproducibility\n",
        "tf.keras.utils.set_random_seed(1)\n",
        "layer = OurDenseLayer(3)\n",
        "layer.build((1,2))\n",
        "x_input = tf.constant([[1,2.]], shape=(1,2))\n",
        "y = layer.call(x_input)\n",
        "\n",
        "# test the output!\n",
        "print(y.numpy())\n",
        "mdl.lab1.test_custom_dense_layer_output(y)"
      ]
    },
    {
      "cell_type": "code",
      "source": [
        "class OurDenseLayer(tf.keras.layers.Layer):\n",
        "  def __init__(self, n_output_nodes):\n",
        "    super(OurDenseLayer, self).__init__()\n",
        "    self.n_output_nodes = n_output_nodes\n",
        "\n",
        "  def build(self, input_shape):\n",
        "    d = int(input_shape[-1])\n",
        "    # Define and initialize parameters: a weight matrix W and bias b\n",
        "    # Note that parameter initialization is random!\n",
        "    self.W = self.add_weight(\"weight\", shape=[d, self.n_output_nodes]) # note the dimensionality\n",
        "    self.b = self.add_weight(\"bias\", shape=[1, self.n_output_nodes]) # note the dimensionality\n",
        "\n",
        "  def call(self, x):\n",
        "    '''TODO: define the operation for z (hint: use tf.matmul)'''\n",
        "    z = tf.matmul(x, self.W) + self.b # TODO\n",
        "    # z = # TODO\n",
        "\n",
        "    '''TODO: define the operation for out (hint: use tf.sigmoid)'''\n",
        "    y = tf.sigmoid(z) # TODO\n",
        "    # y = # TODO\n",
        "    return y\n",
        "\n",
        "# Since layer parameters are initialized randomly, we will set a random seed for reproducibility\n",
        "tf.keras.utils.set_random_seed(1)\n",
        "layer = OurDenseLayer(3)\n",
        "layer.build((1,2))\n",
        "x_input = tf.constant([[1,2.]], shape=(1,2))\n",
        "y = layer.call(x_input)\n",
        "\n",
        "# test the output!\n",
        "print(y.numpy())\n",
        "mdl.lab1.test_custom_dense_layer_output(y)"
      ],
      "metadata": {
        "id": "Te7rQCCYy5b8",
        "outputId": "3fc4461b-53cf-470c-df23-812825c13bd8",
        "colab": {
          "base_uri": "https://localhost:8080/",
          "height": 356
        }
      },
      "execution_count": 40,
      "outputs": [
        {
          "output_type": "error",
          "ename": "TypeError",
          "evalue": "Layer.add_weight() got multiple values for argument 'shape'",
          "traceback": [
            "\u001b[0;31m---------------------------------------------------------------------------\u001b[0m",
            "\u001b[0;31mTypeError\u001b[0m                                 Traceback (most recent call last)",
            "\u001b[0;32m<ipython-input-40-7a554a2d02a4>\u001b[0m in \u001b[0;36m<cell line: 26>\u001b[0;34m()\u001b[0m\n\u001b[1;32m     24\u001b[0m \u001b[0mtf\u001b[0m\u001b[0;34m.\u001b[0m\u001b[0mkeras\u001b[0m\u001b[0;34m.\u001b[0m\u001b[0mutils\u001b[0m\u001b[0;34m.\u001b[0m\u001b[0mset_random_seed\u001b[0m\u001b[0;34m(\u001b[0m\u001b[0;36m1\u001b[0m\u001b[0;34m)\u001b[0m\u001b[0;34m\u001b[0m\u001b[0;34m\u001b[0m\u001b[0m\n\u001b[1;32m     25\u001b[0m \u001b[0mlayer\u001b[0m \u001b[0;34m=\u001b[0m \u001b[0mOurDenseLayer\u001b[0m\u001b[0;34m(\u001b[0m\u001b[0;36m3\u001b[0m\u001b[0;34m)\u001b[0m\u001b[0;34m\u001b[0m\u001b[0;34m\u001b[0m\u001b[0m\n\u001b[0;32m---> 26\u001b[0;31m \u001b[0mlayer\u001b[0m\u001b[0;34m.\u001b[0m\u001b[0mbuild\u001b[0m\u001b[0;34m(\u001b[0m\u001b[0;34m(\u001b[0m\u001b[0;36m1\u001b[0m\u001b[0;34m,\u001b[0m\u001b[0;36m2\u001b[0m\u001b[0;34m)\u001b[0m\u001b[0;34m)\u001b[0m\u001b[0;34m\u001b[0m\u001b[0;34m\u001b[0m\u001b[0m\n\u001b[0m\u001b[1;32m     27\u001b[0m \u001b[0mx_input\u001b[0m \u001b[0;34m=\u001b[0m \u001b[0mtf\u001b[0m\u001b[0;34m.\u001b[0m\u001b[0mconstant\u001b[0m\u001b[0;34m(\u001b[0m\u001b[0;34m[\u001b[0m\u001b[0;34m[\u001b[0m\u001b[0;36m1\u001b[0m\u001b[0;34m,\u001b[0m\u001b[0;36m2.\u001b[0m\u001b[0;34m]\u001b[0m\u001b[0;34m]\u001b[0m\u001b[0;34m,\u001b[0m \u001b[0mshape\u001b[0m\u001b[0;34m=\u001b[0m\u001b[0;34m(\u001b[0m\u001b[0;36m1\u001b[0m\u001b[0;34m,\u001b[0m\u001b[0;36m2\u001b[0m\u001b[0;34m)\u001b[0m\u001b[0;34m)\u001b[0m\u001b[0;34m\u001b[0m\u001b[0;34m\u001b[0m\u001b[0m\n\u001b[1;32m     28\u001b[0m \u001b[0my\u001b[0m \u001b[0;34m=\u001b[0m \u001b[0mlayer\u001b[0m\u001b[0;34m.\u001b[0m\u001b[0mcall\u001b[0m\u001b[0;34m(\u001b[0m\u001b[0mx_input\u001b[0m\u001b[0;34m)\u001b[0m\u001b[0;34m\u001b[0m\u001b[0;34m\u001b[0m\u001b[0m\n",
            "\u001b[0;32m/usr/local/lib/python3.10/dist-packages/keras/src/layers/layer.py\u001b[0m in \u001b[0;36mbuild_wrapper\u001b[0;34m(*args, **kwargs)\u001b[0m\n\u001b[1;32m    224\u001b[0m             \u001b[0;32mwith\u001b[0m \u001b[0mobj\u001b[0m\u001b[0;34m.\u001b[0m\u001b[0m_open_name_scope\u001b[0m\u001b[0;34m(\u001b[0m\u001b[0;34m)\u001b[0m\u001b[0;34m:\u001b[0m\u001b[0;34m\u001b[0m\u001b[0;34m\u001b[0m\u001b[0m\n\u001b[1;32m    225\u001b[0m                 \u001b[0mobj\u001b[0m\u001b[0;34m.\u001b[0m\u001b[0m_path\u001b[0m \u001b[0;34m=\u001b[0m \u001b[0mcurrent_path\u001b[0m\u001b[0;34m(\u001b[0m\u001b[0;34m)\u001b[0m\u001b[0;34m\u001b[0m\u001b[0;34m\u001b[0m\u001b[0m\n\u001b[0;32m--> 226\u001b[0;31m                 \u001b[0moriginal_build_method\u001b[0m\u001b[0;34m(\u001b[0m\u001b[0;34m*\u001b[0m\u001b[0margs\u001b[0m\u001b[0;34m,\u001b[0m \u001b[0;34m**\u001b[0m\u001b[0mkwargs\u001b[0m\u001b[0;34m)\u001b[0m\u001b[0;34m\u001b[0m\u001b[0;34m\u001b[0m\u001b[0m\n\u001b[0m\u001b[1;32m    227\u001b[0m             \u001b[0;31m# Record build config.\u001b[0m\u001b[0;34m\u001b[0m\u001b[0;34m\u001b[0m\u001b[0m\n\u001b[1;32m    228\u001b[0m             \u001b[0msignature\u001b[0m \u001b[0;34m=\u001b[0m \u001b[0minspect\u001b[0m\u001b[0;34m.\u001b[0m\u001b[0msignature\u001b[0m\u001b[0;34m(\u001b[0m\u001b[0moriginal_build_method\u001b[0m\u001b[0;34m)\u001b[0m\u001b[0;34m\u001b[0m\u001b[0;34m\u001b[0m\u001b[0m\n",
            "\u001b[0;32m<ipython-input-40-7a554a2d02a4>\u001b[0m in \u001b[0;36mbuild\u001b[0;34m(self, input_shape)\u001b[0m\n\u001b[1;32m      8\u001b[0m     \u001b[0;31m# Define and initialize parameters: a weight matrix W and bias b\u001b[0m\u001b[0;34m\u001b[0m\u001b[0;34m\u001b[0m\u001b[0m\n\u001b[1;32m      9\u001b[0m     \u001b[0;31m# Note that parameter initialization is random!\u001b[0m\u001b[0;34m\u001b[0m\u001b[0;34m\u001b[0m\u001b[0m\n\u001b[0;32m---> 10\u001b[0;31m     \u001b[0mself\u001b[0m\u001b[0;34m.\u001b[0m\u001b[0mW\u001b[0m \u001b[0;34m=\u001b[0m \u001b[0mself\u001b[0m\u001b[0;34m.\u001b[0m\u001b[0madd_weight\u001b[0m\u001b[0;34m(\u001b[0m\u001b[0;34m\"weight\"\u001b[0m\u001b[0;34m,\u001b[0m \u001b[0mshape\u001b[0m\u001b[0;34m=\u001b[0m\u001b[0;34m[\u001b[0m\u001b[0md\u001b[0m\u001b[0;34m,\u001b[0m \u001b[0mself\u001b[0m\u001b[0;34m.\u001b[0m\u001b[0mn_output_nodes\u001b[0m\u001b[0;34m]\u001b[0m\u001b[0;34m)\u001b[0m \u001b[0;31m# note the dimensionality\u001b[0m\u001b[0;34m\u001b[0m\u001b[0;34m\u001b[0m\u001b[0m\n\u001b[0m\u001b[1;32m     11\u001b[0m     \u001b[0mself\u001b[0m\u001b[0;34m.\u001b[0m\u001b[0mb\u001b[0m \u001b[0;34m=\u001b[0m \u001b[0mself\u001b[0m\u001b[0;34m.\u001b[0m\u001b[0madd_weight\u001b[0m\u001b[0;34m(\u001b[0m\u001b[0;34m\"bias\"\u001b[0m\u001b[0;34m,\u001b[0m \u001b[0mshape\u001b[0m\u001b[0;34m=\u001b[0m\u001b[0;34m[\u001b[0m\u001b[0;36m1\u001b[0m\u001b[0;34m,\u001b[0m \u001b[0mself\u001b[0m\u001b[0;34m.\u001b[0m\u001b[0mn_output_nodes\u001b[0m\u001b[0;34m]\u001b[0m\u001b[0;34m)\u001b[0m \u001b[0;31m# note the dimensionality\u001b[0m\u001b[0;34m\u001b[0m\u001b[0;34m\u001b[0m\u001b[0m\n\u001b[1;32m     12\u001b[0m \u001b[0;34m\u001b[0m\u001b[0m\n",
            "\u001b[0;31mTypeError\u001b[0m: Layer.add_weight() got multiple values for argument 'shape'"
          ]
        }
      ]
    },
    {
      "cell_type": "markdown",
      "metadata": {
        "id": "Jt1FgM7qYZ3D"
      },
      "source": [
        "Conveniently, TensorFlow has defined a number of ```Layers``` that are commonly used in neural networks, for example a [```Dense```](https://www.tensorflow.org/api_docs/python/tf/keras/layers/Dense?version=stable). Now, instead of using a single ```Layer``` to define our simple neural network, we'll use the  [`Sequential`](https://www.tensorflow.org/versions/r2.0/api_docs/python/tf/keras/Sequential) model from Keras and a single [`Dense` ](https://www.tensorflow.org/versions/r2.0/api_docs/python/tf/keras/layers/Dense) layer to define our network. With the `Sequential` API, you can readily create neural networks by stacking together layers like building blocks."
      ]
    },
    {
      "cell_type": "code",
      "execution_count": 13,
      "metadata": {
        "id": "7WXTpmoL6TDz"
      },
      "outputs": [],
      "source": [
        "### Defining a neural network using the Sequential API ###\n",
        "\n",
        "# Import relevant packages\n",
        "from tensorflow.keras import Sequential\n",
        "from tensorflow.keras.layers import Dense\n",
        "\n",
        "# Define the number of outputs\n",
        "n_output_nodes = 3\n",
        "\n",
        "# First define the model\n",
        "model = Sequential()\n",
        "\n",
        "'''TODO: Define a dense (fully connected) layer to compute z'''\n",
        "# Remember: dense layers are defined by the parameters W and b!\n",
        "# You can read more about the initialization of W and b in the TF documentation :)\n",
        "# https://www.tensorflow.org/api_docs/python/tf/keras/layers/Dense?version=stable\n",
        "dense_layer = Dense(n_output_nodes, activation=\"sigmoid\") # TODO\n",
        "\n",
        "# Add the dense layer to the model\n",
        "model.add(dense_layer)\n"
      ]
    },
    {
      "cell_type": "markdown",
      "metadata": {
        "id": "HDGcwYfUyR-U"
      },
      "source": [
        "That's it! We've defined our model using the Sequential API. Now, we can test it out using an example input:"
      ]
    },
    {
      "cell_type": "code",
      "execution_count": 14,
      "metadata": {
        "id": "sg23OczByRDb",
        "outputId": "034e9552-24b9-4f61-b04f-4d6e65e56909",
        "colab": {
          "base_uri": "https://localhost:8080/"
        }
      },
      "outputs": [
        {
          "output_type": "stream",
          "name": "stdout",
          "text": [
            "\u001b[1m1/1\u001b[0m \u001b[32m━━━━━━━━━━━━━━━━━━━━\u001b[0m\u001b[37m\u001b[0m \u001b[1m0s\u001b[0m 303ms/step\n",
            "[[0.18752205 0.23909675 0.3213029 ]]\n",
            "[[0.18752205 0.23909675 0.3213029 ]]\n"
          ]
        }
      ],
      "source": [
        "# Test model with example input\n",
        "x_input = tf.constant([[1,2.]], shape=(1,2))\n",
        "\n",
        "'''TODO: feed input into the model and predict the output!'''\n",
        "model_output = model.predict(x_input)\n",
        "newOutput = model(x_input).numpy()\n",
        "print(newOutput)\n",
        "print(model_output)"
      ]
    },
    {
      "cell_type": "markdown",
      "metadata": {
        "id": "596NvsOOtr9F"
      },
      "source": [
        "In addition to defining models using the `Sequential` API, we can also define neural networks by directly subclassing the [`Model`](https://www.tensorflow.org/api_docs/python/tf/keras/Model?version=stable) class, which groups layers together to enable model training and inference. The `Model` class captures what we refer to as a \"model\" or as a \"network\". Using Subclassing, we can create a class for our model, and then define the forward pass through the network using the `call` function. Subclassing affords the flexibility to define custom layers, custom training loops, custom activation functions, and custom models. Let's define the same neural network as above now using Subclassing rather than the `Sequential` model."
      ]
    },
    {
      "cell_type": "code",
      "execution_count": 15,
      "metadata": {
        "id": "K4aCflPVyViD"
      },
      "outputs": [],
      "source": [
        "### Defining a model using subclassing ###\n",
        "\n",
        "from tensorflow.keras import Model\n",
        "from tensorflow.keras.layers import Dense\n",
        "\n",
        "class SubclassModel(tf.keras.Model):\n",
        "\n",
        "  # In __init__, we define the Model's layers\n",
        "  def __init__(self, n_output_nodes):\n",
        "    super(SubclassModel, self).__init__()\n",
        "    '''TODO: Our model consists of a single Dense layer. Define this layer.'''\n",
        "    self.dense_layer = Dense(n_output_nodes, activation = \"sigmoid\")\n",
        "\n",
        "  # In the call function, we define the Model's forward pass.\n",
        "  def call(self, inputs):\n",
        "    return self.dense_layer(inputs)"
      ]
    },
    {
      "cell_type": "markdown",
      "metadata": {
        "id": "U0-lwHDk4irB"
      },
      "source": [
        "Just like the model we built using the `Sequential` API, let's test out our `SubclassModel` using an example input.\n",
        "\n"
      ]
    },
    {
      "cell_type": "code",
      "execution_count": 17,
      "metadata": {
        "id": "LhB34RA-4gXb",
        "outputId": "e4e17e89-a731-4a63-cf03-c4836cce55bc",
        "colab": {
          "base_uri": "https://localhost:8080/"
        }
      },
      "outputs": [
        {
          "output_type": "stream",
          "name": "stdout",
          "text": [
            "tf.Tensor([[0.5746787  0.6182241  0.88219965]], shape=(1, 3), dtype=float32)\n"
          ]
        }
      ],
      "source": [
        "n_output_nodes = 3\n",
        "model = SubclassModel(n_output_nodes)\n",
        "\n",
        "x_input = tf.constant([[1,2.]], shape=(1,2))\n",
        "\n",
        "print(model.call(x_input))"
      ]
    },
    {
      "cell_type": "markdown",
      "metadata": {
        "id": "HTIFMJLAzsyE"
      },
      "source": [
        "Importantly, Subclassing affords us a lot of flexibility to define custom models. For example, we can use boolean arguments in the `call` function to specify different network behaviors, for example different behaviors during training and inference. Let's suppose under some instances we want our network to simply output the input, without any perturbation. We define a boolean argument `isidentity` to control this behavior:"
      ]
    },
    {
      "cell_type": "code",
      "execution_count": 18,
      "metadata": {
        "id": "P7jzGX5D1xT5",
        "outputId": "271563ad-64ad-4841-a4c6-51472610aa37",
        "colab": {
          "base_uri": "https://localhost:8080/"
        }
      },
      "outputs": [
        {
          "output_type": "stream",
          "name": "stderr",
          "text": [
            "/usr/local/lib/python3.10/dist-packages/ipykernel/ipkernel.py:283: DeprecationWarning: `should_run_async` will not call `transform_cell` automatically in the future. Please pass the result to `transformed_cell` argument and any exception that happen during thetransform in `preprocessing_exc_tuple` in IPython 7.17 and above.\n",
            "  and should_run_async(code)\n"
          ]
        }
      ],
      "source": [
        "### Defining a model using subclassing and specifying custom behavior ###\n",
        "\n",
        "from tensorflow.keras import Model\n",
        "from tensorflow.keras.layers import Dense\n",
        "\n",
        "class IdentityModel(tf.keras.Model):\n",
        "\n",
        "  # As before, in __init__ we define the Model's layers\n",
        "  # Since our desired behavior involves the forward pass, this part is unchanged\n",
        "  def __init__(self, n_output_nodes):\n",
        "    super(IdentityModel, self).__init__()\n",
        "    self.dense_layer = tf.keras.layers.Dense(n_output_nodes, activation='sigmoid')\n",
        "\n",
        "  '''TODO: Implement the behavior where the network outputs the input, unchanged,\n",
        "      under control of the isidentity argument.'''\n",
        "  def call(self, inputs, isidentity=False):\n",
        "    x = self.dense_layer(inputs)\n",
        "    '''TODO: Implement identity behavior'''\n",
        "    if isidentity:\n",
        "      return inputs\n",
        "    else:\n",
        "      return x"
      ]
    },
    {
      "cell_type": "markdown",
      "metadata": {
        "id": "Ku4rcCGx5T3y"
      },
      "source": [
        "Let's test this behavior:"
      ]
    },
    {
      "cell_type": "code",
      "execution_count": 19,
      "metadata": {
        "id": "NzC0mgbk5dp2",
        "outputId": "dadee28b-4658-4fcb-b280-aeb54ef319fc",
        "colab": {
          "base_uri": "https://localhost:8080/"
        }
      },
      "outputs": [
        {
          "output_type": "stream",
          "name": "stdout",
          "text": [
            "Network output with activation: [[0.5415577  0.89483994 0.3540968 ]]; network identity output: [[1. 2.]]\n"
          ]
        },
        {
          "output_type": "stream",
          "name": "stderr",
          "text": [
            "/usr/local/lib/python3.10/dist-packages/ipykernel/ipkernel.py:283: DeprecationWarning: `should_run_async` will not call `transform_cell` automatically in the future. Please pass the result to `transformed_cell` argument and any exception that happen during thetransform in `preprocessing_exc_tuple` in IPython 7.17 and above.\n",
            "  and should_run_async(code)\n"
          ]
        }
      ],
      "source": [
        "n_output_nodes = 3\n",
        "model = IdentityModel(n_output_nodes)\n",
        "\n",
        "x_input = tf.constant([[1,2.]], shape=(1,2))\n",
        "'''TODO: pass the input into the model and call with and without the input identity option.'''\n",
        "out_activate = model.call(x_input) # TODO\n",
        "out_identity = model.call(x_input, isidentity=True)\n",
        "\n",
        "\n",
        "print(\"Network output with activation: {}; network identity output: {}\".format(out_activate.numpy(), out_identity.numpy()))"
      ]
    },
    {
      "cell_type": "markdown",
      "metadata": {
        "id": "7V1dEqdk6VI5"
      },
      "source": [
        "Now that we have learned how to define `Layers` as well as neural networks in TensorFlow using both the `Sequential` and Subclassing APIs, we're ready to turn our attention to how to actually implement network training with backpropagation."
      ]
    },
    {
      "cell_type": "markdown",
      "metadata": {
        "id": "dQwDhKn8kbO2"
      },
      "source": [
        "## 1.4 Automatic differentiation in TensorFlow\n",
        "\n",
        "[Automatic differentiation](https://en.wikipedia.org/wiki/Automatic_differentiation)\n",
        "is one of the most important parts of TensorFlow and is the backbone of training with\n",
        "[backpropagation](https://en.wikipedia.org/wiki/Backpropagation). We will use the TensorFlow GradientTape [`tf.GradientTape`](https://www.tensorflow.org/api_docs/python/tf/GradientTape?version=stable) to trace operations for computing gradients later.\n",
        "\n",
        "When a forward pass is made through the network, all forward-pass operations get recorded to a \"tape\"; then, to compute the gradient, the tape is played backwards. By default, the tape is discarded after it is played backwards; this means that a particular `tf.GradientTape` can only\n",
        "compute one gradient, and subsequent calls throw a runtime error. However, we can compute multiple gradients over the same computation by creating a ```persistent``` gradient tape.\n",
        "\n",
        "First, we will look at how we can compute gradients using GradientTape and access them for computation. We define the simple function $ y = x^2$ and compute the gradient:"
      ]
    },
    {
      "cell_type": "code",
      "execution_count": 22,
      "metadata": {
        "id": "tdkqk8pw5yJM"
      },
      "outputs": [],
      "source": [
        "### Gradient computation with GradientTape ###\n",
        "\n",
        "# y = x^2\n",
        "# Example: x = 3.0\n",
        "x = tf.Variable(3.0)\n",
        "\n",
        "# Initiate the gradient tape\n",
        "with tf.GradientTape() as tape:\n",
        "  # Define the function\n",
        "  y = x * x\n",
        "# Access the gradient -- derivative of y with respect to x\n",
        "dy_dx = tape.gradient(y, x)\n",
        "\n",
        "assert dy_dx.numpy() == 6.0"
      ]
    },
    {
      "cell_type": "markdown",
      "metadata": {
        "id": "JhU5metS5xF3"
      },
      "source": [
        "In training neural networks, we use differentiation and stochastic gradient descent (SGD) to optimize a loss function. Now that we have a sense of how `GradientTape` can be used to compute and access derivatives, we will look at an example where we use automatic differentiation and SGD to find the minimum of $L=(x-x_f)^2$. Here $x_f$ is a variable for a desired value we are trying to optimize for; $L$ represents a loss that we are trying to  minimize. While we can clearly solve this problem analytically ($x_{min}=x_f$), considering how we can compute this using `GradientTape` sets us up nicely for future labs where we use gradient descent to optimize entire neural network losses."
      ]
    },
    {
      "cell_type": "code",
      "execution_count": 31,
      "metadata": {
        "attributes": {
          "classes": [
            "py"
          ],
          "id": ""
        },
        "id": "7g1yWiSXqEf-",
        "outputId": "35887df5-fb25-4424-e954-540de4c4c8d3",
        "colab": {
          "base_uri": "https://localhost:8080/",
          "height": 521
        }
      },
      "outputs": [
        {
          "output_type": "stream",
          "name": "stdout",
          "text": [
            "Initializing x=[[-0.35975075]]\n",
            "history : [array([-0.27255574], dtype=float32), array([-0.18710463], dtype=float32), array([-0.10336254], dtype=float32), array([-0.02129529], dtype=float32), array([0.05913062], dtype=float32), array([0.137948], dtype=float32), array([0.21518904], dtype=float32), array([0.29088527], dtype=float32), array([0.36506757], dtype=float32), array([0.43776622], dtype=float32), array([0.5090109], dtype=float32), array([0.5788307], dtype=float32), array([0.6472541], dtype=float32), array([0.71430904], dtype=float32), array([0.78002286], dtype=float32), array([0.8444224], dtype=float32), array([0.90753394], dtype=float32), array([0.96938324], dtype=float32), array([1.0299956], dtype=float32), array([1.0893956], dtype=float32), array([1.1476077], dtype=float32), array([1.2046555], dtype=float32), array([1.2605624], dtype=float32), array([1.3153511], dtype=float32), array([1.3690441], dtype=float32), array([1.4216632], dtype=float32), array([1.4732299], dtype=float32), array([1.5237653], dtype=float32), array([1.57329], dtype=float32), array([1.6218241], dtype=float32), array([1.6693877], dtype=float32), array([1.716], dtype=float32), array([1.76168], dtype=float32), array([1.8064464], dtype=float32), array([1.8503175], dtype=float32), array([1.8933111], dtype=float32), array([1.935445], dtype=float32), array([1.9767361], dtype=float32), array([2.0172014], dtype=float32), array([2.0568573], dtype=float32), array([2.0957203], dtype=float32), array([2.133806], dtype=float32), array([2.17113], dtype=float32), array([2.2077074], dtype=float32), array([2.2435532], dtype=float32), array([2.278682], dtype=float32), array([2.3131084], dtype=float32), array([2.3468463], dtype=float32), array([2.3799095], dtype=float32), array([2.4123113], dtype=float32), array([2.444065], dtype=float32), array([2.4751837], dtype=float32), array([2.50568], dtype=float32), array([2.5355666], dtype=float32), array([2.5648553], dtype=float32), array([2.5935583], dtype=float32), array([2.6216872], dtype=float32), array([2.6492534], dtype=float32), array([2.6762683], dtype=float32), array([2.702743], dtype=float32), array([2.7286882], dtype=float32), array([2.7541144], dtype=float32), array([2.779032], dtype=float32), array([2.8034513], dtype=float32), array([2.8273823], dtype=float32), array([2.8508346], dtype=float32), array([2.873818], dtype=float32), array([2.8963416], dtype=float32), array([2.9184148], dtype=float32), array([2.9400465], dtype=float32), array([2.9612455], dtype=float32), array([2.9820206], dtype=float32), array([3.0023801], dtype=float32), array([3.0223324], dtype=float32), array([3.0418859], dtype=float32), array([3.061048], dtype=float32), array([3.079827], dtype=float32), array([3.0982306], dtype=float32), array([3.116266], dtype=float32), array([3.1339407], dtype=float32), array([3.1512618], dtype=float32), array([3.1682365], dtype=float32), array([3.1848717], dtype=float32), array([3.2011743], dtype=float32), array([3.2171507], dtype=float32), array([3.2328076], dtype=float32), array([3.2481515], dtype=float32), array([3.2631886], dtype=float32), array([3.2779248], dtype=float32), array([3.2923663], dtype=float32), array([3.306519], dtype=float32), array([3.3203886], dtype=float32), array([3.3339808], dtype=float32), array([3.3473012], dtype=float32), array([3.3603551], dtype=float32), array([3.373148], dtype=float32), array([3.385685], dtype=float32), array([3.3979712], dtype=float32), array([3.4100118], dtype=float32), array([3.4218116], dtype=float32), array([3.4333754], dtype=float32), array([3.4447079], dtype=float32), array([3.4558136], dtype=float32), array([3.4666975], dtype=float32), array([3.4773636], dtype=float32), array([3.4878163], dtype=float32), array([3.49806], dtype=float32), array([3.5080988], dtype=float32), array([3.517937], dtype=float32), array([3.527578], dtype=float32), array([3.5370266], dtype=float32), array([3.546286], dtype=float32), array([3.5553603], dtype=float32), array([3.564253], dtype=float32), array([3.572968], dtype=float32), array([3.5815086], dtype=float32), array([3.5898786], dtype=float32), array([3.5980809], dtype=float32), array([3.6061192], dtype=float32), array([3.6139967], dtype=float32), array([3.6217167], dtype=float32), array([3.6292825], dtype=float32), array([3.6366968], dtype=float32), array([3.6439629], dtype=float32), array([3.6510837], dtype=float32), array([3.658062], dtype=float32), array([3.6649008], dtype=float32), array([3.6716027], dtype=float32), array([3.6781707], dtype=float32), array([3.6846073], dtype=float32), array([3.690915], dtype=float32), array([3.6970968], dtype=float32), array([3.7031548], dtype=float32), array([3.7090917], dtype=float32), array([3.7149098], dtype=float32), array([3.7206116], dtype=float32), array([3.7261994], dtype=float32), array([3.7316754], dtype=float32), array([3.737042], dtype=float32), array([3.7423012], dtype=float32), array([3.7474551], dtype=float32), array([3.752506], dtype=float32), array([3.7574558], dtype=float32), array([3.7623067], dtype=float32), array([3.7670605], dtype=float32), array([3.7717192], dtype=float32), array([3.776285], dtype=float32), array([3.7807593], dtype=float32), array([3.785144], dtype=float32), array([3.789441], dtype=float32), array([3.7936523], dtype=float32), array([3.7977793], dtype=float32), array([3.8018236], dtype=float32), array([3.805787], dtype=float32), array([3.8096714], dtype=float32), array([3.813478], dtype=float32), array([3.8172085], dtype=float32), array([3.8208644], dtype=float32), array([3.8244472], dtype=float32), array([3.827958], dtype=float32), array([3.831399], dtype=float32), array([3.834771], dtype=float32), array([3.8380754], dtype=float32), array([3.8413138], dtype=float32), array([3.8444877], dtype=float32), array([3.8475978], dtype=float32), array([3.8506458], dtype=float32), array([3.853633], dtype=float32), array([3.8565602], dtype=float32), array([3.8594291], dtype=float32), array([3.8622406], dtype=float32), array([3.8649957], dtype=float32), array([3.8676958], dtype=float32), array([3.8703418], dtype=float32), array([3.872935], dtype=float32), array([3.8754764], dtype=float32), array([3.877967], dtype=float32), array([3.8804076], dtype=float32), array([3.8827994], dtype=float32), array([3.8851433], dtype=float32), array([3.8874404], dtype=float32), array([3.8896916], dtype=float32), array([3.8918977], dtype=float32), array([3.8940597], dtype=float32), array([3.8961785], dtype=float32), array([3.8982549], dtype=float32), array([3.9002898], dtype=float32), array([3.902284], dtype=float32), array([3.9042382], dtype=float32), array([3.9061534], dtype=float32), array([3.9080303], dtype=float32), array([3.9098697], dtype=float32), array([3.9116724], dtype=float32), array([3.9134388], dtype=float32), array([3.91517], dtype=float32), array([3.9168665], dtype=float32), array([3.9185293], dtype=float32), array([3.9201586], dtype=float32), array([3.9217556], dtype=float32), array([3.9233205], dtype=float32), array([3.924854], dtype=float32), array([3.926357], dtype=float32), array([3.92783], dtype=float32), array([3.9292734], dtype=float32), array([3.930688], dtype=float32), array([3.932074], dtype=float32), array([3.9334326], dtype=float32), array([3.934764], dtype=float32), array([3.9360685], dtype=float32), array([3.9373472], dtype=float32), array([3.9386003], dtype=float32), array([3.9398284], dtype=float32), array([3.941032], dtype=float32), array([3.9422114], dtype=float32), array([3.9433672], dtype=float32), array([3.9445], dtype=float32), array([3.94561], dtype=float32), array([3.946698], dtype=float32), array([3.947764], dtype=float32), array([3.9488087], dtype=float32), array([3.9498324], dtype=float32), array([3.9508357], dtype=float32), array([3.951819], dtype=float32), array([3.9527826], dtype=float32), array([3.953727], dtype=float32), array([3.9546525], dtype=float32), array([3.9555595], dtype=float32), array([3.9564483], dtype=float32), array([3.9573193], dtype=float32), array([3.9581728], dtype=float32), array([3.9590094], dtype=float32), array([3.9598293], dtype=float32), array([3.9606328], dtype=float32), array([3.96142], dtype=float32), array([3.9621916], dtype=float32), array([3.9629478], dtype=float32), array([3.9636889], dtype=float32), array([3.964415], dtype=float32), array([3.9651268], dtype=float32), array([3.9658241], dtype=float32), array([3.9665077], dtype=float32), array([3.9671776], dtype=float32), array([3.967834], dtype=float32), array([3.9684772], dtype=float32), array([3.9691076], dtype=float32), array([3.9697254], dtype=float32), array([3.970331], dtype=float32), array([3.9709244], dtype=float32), array([3.9715059], dtype=float32), array([3.9720757], dtype=float32), array([3.972634], dtype=float32), array([3.9731815], dtype=float32), array([3.973718], dtype=float32), array([3.9742436], dtype=float32), array([3.9747589], dtype=float32), array([3.9752636], dtype=float32), array([3.9757583], dtype=float32), array([3.9762433], dtype=float32), array([3.9767184], dtype=float32), array([3.977184], dtype=float32), array([3.9776404], dtype=float32), array([3.9780877], dtype=float32), array([3.9785259], dtype=float32), array([3.9789553], dtype=float32), array([3.979376], dtype=float32), array([3.9797885], dtype=float32), array([3.9801927], dtype=float32), array([3.980589], dtype=float32), array([3.980977], dtype=float32), array([3.9813576], dtype=float32), array([3.9817305], dtype=float32), array([3.982096], dtype=float32), array([3.982454], dtype=float32), array([3.982805], dtype=float32), array([3.9831488], dtype=float32), array([3.983486], dtype=float32), array([3.9838161], dtype=float32), array([3.98414], dtype=float32), array([3.984457], dtype=float32), array([3.984768], dtype=float32), array([3.9850726], dtype=float32), array([3.985371], dtype=float32), array([3.9856637], dtype=float32), array([3.9859505], dtype=float32), array([3.9862316], dtype=float32), array([3.986507], dtype=float32), array([3.9867768], dtype=float32), array([3.9870412], dtype=float32), array([3.9873004], dtype=float32), array([3.9875543], dtype=float32), array([3.9878032], dtype=float32), array([3.9880471], dtype=float32), array([3.9882863], dtype=float32), array([3.9885206], dtype=float32), array([3.9887502], dtype=float32), array([3.9889753], dtype=float32), array([3.9891958], dtype=float32), array([3.9894118], dtype=float32), array([3.9896235], dtype=float32), array([3.989831], dtype=float32), array([3.9900343], dtype=float32), array([3.9902337], dtype=float32), array([3.990429], dtype=float32), array([3.9906204], dtype=float32), array([3.990808], dtype=float32), array([3.9909918], dtype=float32), array([3.991172], dtype=float32), array([3.9913487], dtype=float32), array([3.9915218], dtype=float32), array([3.9916914], dtype=float32), array([3.9918575], dtype=float32), array([3.9920204], dtype=float32), array([3.9921799], dtype=float32), array([3.9923363], dtype=float32), array([3.9924896], dtype=float32), array([3.9926398], dtype=float32), array([3.992787], dtype=float32), array([3.9929311], dtype=float32), array([3.9930725], dtype=float32), array([3.993211], dtype=float32), array([3.9933467], dtype=float32), array([3.9934797], dtype=float32), array([3.9936101], dtype=float32), array([3.993738], dtype=float32), array([3.993863], dtype=float32), array([3.993986], dtype=float32), array([3.9941063], dtype=float32), array([3.994224], dtype=float32), array([3.9943397], dtype=float32), array([3.994453], dtype=float32), array([3.9945638], dtype=float32), array([3.9946725], dtype=float32), array([3.994779], dtype=float32), array([3.9948835], dtype=float32), array([3.9949858], dtype=float32), array([3.9950862], dtype=float32), array([3.9951844], dtype=float32), array([3.9952807], dtype=float32), array([3.9953752], dtype=float32), array([3.9954677], dtype=float32), array([3.9955583], dtype=float32), array([3.9956472], dtype=float32), array([3.9957342], dtype=float32), array([3.9958196], dtype=float32), array([3.9959033], dtype=float32), array([3.9959853], dtype=float32), array([3.9960656], dtype=float32), array([3.9961443], dtype=float32), array([3.9962213], dtype=float32), array([3.996297], dtype=float32), array([3.996371], dtype=float32), array([3.9964435], dtype=float32), array([3.9965146], dtype=float32), array([3.9965842], dtype=float32), array([3.9966526], dtype=float32), array([3.9967196], dtype=float32), array([3.9967852], dtype=float32), array([3.9968495], dtype=float32), array([3.9969125], dtype=float32), array([3.9969742], dtype=float32), array([3.9970348], dtype=float32), array([3.9970942], dtype=float32), array([3.9971523], dtype=float32), array([3.9972093], dtype=float32), array([3.997265], dtype=float32), array([3.9973197], dtype=float32), array([3.9973733], dtype=float32), array([3.9974258], dtype=float32), array([3.9974773], dtype=float32), array([3.9975278], dtype=float32), array([3.9975772], dtype=float32), array([3.9976256], dtype=float32), array([3.997673], dtype=float32), array([3.9977195], dtype=float32), array([3.997765], dtype=float32), array([3.9978096], dtype=float32), array([3.9978535], dtype=float32), array([3.9978964], dtype=float32), array([3.9979384], dtype=float32), array([3.9979796], dtype=float32), array([3.99802], dtype=float32), array([3.9980595], dtype=float32), array([3.9980984], dtype=float32), array([3.9981365], dtype=float32), array([3.9981737], dtype=float32), array([3.9982102], dtype=float32), array([3.998246], dtype=float32), array([3.998281], dtype=float32), array([3.9983153], dtype=float32), array([3.998349], dtype=float32), array([3.998382], dtype=float32), array([3.9984145], dtype=float32), array([3.9984462], dtype=float32), array([3.9984772], dtype=float32), array([3.9985077], dtype=float32), array([3.9985375], dtype=float32), array([3.9985669], dtype=float32), array([3.9985955], dtype=float32), array([3.9986236], dtype=float32), array([3.998651], dtype=float32), array([3.998678], dtype=float32), array([3.9987044], dtype=float32), array([3.9987304], dtype=float32), array([3.998756], dtype=float32), array([3.9987807], dtype=float32), array([3.998805], dtype=float32), array([3.998829], dtype=float32), array([3.9988523], dtype=float32), array([3.9988751], dtype=float32), array([3.9988976], dtype=float32), array([3.9989195], dtype=float32), array([3.9989412], dtype=float32), array([3.9989624], dtype=float32), array([3.9989831], dtype=float32), array([3.9990034], dtype=float32), array([3.9990234], dtype=float32), array([3.999043], dtype=float32), array([3.999062], dtype=float32), array([3.999081], dtype=float32), array([3.9990993], dtype=float32), array([3.9991174], dtype=float32), array([3.999135], dtype=float32), array([3.9991524], dtype=float32), array([3.9991693], dtype=float32), array([3.999186], dtype=float32), array([3.9992023], dtype=float32), array([3.9992182], dtype=float32), array([3.999234], dtype=float32), array([3.9992492], dtype=float32), array([3.9992642], dtype=float32), array([3.999279], dtype=float32), array([3.9992933], dtype=float32), array([3.9993074], dtype=float32), array([3.9993212], dtype=float32), array([3.9993348], dtype=float32), array([3.9993482], dtype=float32), array([3.9993613], dtype=float32), array([3.9993742], dtype=float32), array([3.9993868], dtype=float32), array([3.999399], dtype=float32), array([3.9994109], dtype=float32), array([3.9994226], dtype=float32), array([3.999434], dtype=float32), array([3.9994452], dtype=float32), array([3.9994564], dtype=float32), array([3.9994674], dtype=float32), array([3.999478], dtype=float32), array([3.9994886], dtype=float32), array([3.9994988], dtype=float32), array([3.9995089], dtype=float32), array([3.9995186], dtype=float32), array([3.9995282], dtype=float32), array([3.9995377], dtype=float32), array([3.999547], dtype=float32), array([3.999556], dtype=float32), array([3.999565], dtype=float32), array([3.9995737], dtype=float32), array([3.9995823], dtype=float32), array([3.9995906], dtype=float32), array([3.9995987], dtype=float32), array([3.9996068], dtype=float32), array([3.9996147], dtype=float32), array([3.9996223], dtype=float32), array([3.99963], dtype=float32), array([3.9996374], dtype=float32), array([3.9996445], dtype=float32), array([3.9996517], dtype=float32), array([3.9996586], dtype=float32), array([3.9996655], dtype=float32), array([3.9996722], dtype=float32), array([3.9996786], dtype=float32), array([3.999685], dtype=float32), array([3.9996912], dtype=float32), array([3.9996974], dtype=float32), array([3.9997034], dtype=float32), array([3.9997094], dtype=float32), array([3.999715], dtype=float32), array([3.9997208], dtype=float32), array([3.9997263], dtype=float32), array([3.9997318], dtype=float32), array([3.9997373], dtype=float32), array([3.9997425], dtype=float32), array([3.9997478], dtype=float32), array([3.9997528], dtype=float32), array([3.9997578], dtype=float32), array([3.9997625], dtype=float32), array([3.9997673], dtype=float32), array([3.999772], dtype=float32), array([3.9997766], dtype=float32), array([3.9997811], dtype=float32), array([3.9997854], dtype=float32), array([3.9997897], dtype=float32), array([3.999794], dtype=float32), array([3.999798], dtype=float32), array([3.999802], dtype=float32), array([3.9998062], dtype=float32), array([3.99981], dtype=float32), array([3.9998138], dtype=float32), array([3.9998176], dtype=float32), array([3.9998212], dtype=float32)]\n"
          ]
        },
        {
          "output_type": "execute_result",
          "data": {
            "text/plain": [
              "Text(0, 0.5, 'x value')"
            ]
          },
          "metadata": {},
          "execution_count": 31
        },
        {
          "output_type": "display_data",
          "data": {
            "text/plain": [
              "<Figure size 640x480 with 1 Axes>"
            ],
            "image/png": "[encoded data removed]"
          },
          "metadata": {}
        }
      ],
      "source": [
        "### Function minimization with automatic differentiation and SGD ###\n",
        "\n",
        "# Initialize a random value for our initial x\n",
        "x = tf.Variable([tf.random.normal([1])])\n",
        "print(\"Initializing x={}\".format(x.numpy()))\n",
        "\n",
        "learning_rate = 1e-2 # learning rate for SGD\n",
        "history = []\n",
        "# Define the target value\n",
        "x_f = 4\n",
        "\n",
        "# We will run SGD for a number of iterations. At each iteration, we compute the loss,\n",
        "#   compute the derivative of the loss with respect to x, and perform the SGD update.\n",
        "for i in range(500):\n",
        "  with tf.GradientTape() as tape:\n",
        "    '''TODO: define the loss as described above'''\n",
        "    loss = (x - x_f)**2\n",
        "\n",
        "  # loss minimization using gradient tape\n",
        "  grad = tape.gradient(loss, x) # compute the derivative of the loss with respect to x\n",
        "  new_x = x - learning_rate*grad # sgd update\n",
        "  x.assign(new_x) # update the value of x\n",
        "  history.append(x.numpy()[0])\n",
        "\n",
        "print(f\"history : {history}\")\n",
        "\n",
        "# Plot the evolution of x as we optimize towards x_f!\n",
        "plt.plot(history)\n",
        "plt.plot([0, 500],[x_f,x_f])\n",
        "plt.legend(('Predicted', 'True'))\n",
        "plt.xlabel('Iteration')\n",
        "plt.ylabel('x value')"
      ]
    },
    {
      "cell_type": "markdown",
      "metadata": {
        "id": "pC7czCwk3ceH"
      },
      "source": [
        "`GradientTape` provides an extremely flexible framework for automatic differentiation. In order to back propagate errors through a neural network, we track forward passes on the Tape, use this information to determine the gradients, and then use these gradients for optimization using SGD."
      ]
    }
  ],
  "metadata": {
    "accelerator": "GPU",
    "colab": {
      "collapsed_sections": [
        "WBk0ZDWY-ff8"
      ],
      "name": "Part1_TensorFlow.ipynb",
      "provenance": [],
      "include_colab_link": true
    },
    "kernelspec": {
      "display_name": "Python 3",
      "language": "python",
      "name": "python3"
    },
    "language_info": {
      "name": "python",
      "version": "3.9.6"
    },
    "vscode": {
      "interpreter": {
        "hash": "31f2aee4e71d21fbe5cf8b01ff0e069b9275f58929596ceb00d14d90e3e16cd6"
      }
    }
  },
  "nbformat": 4,
  "nbformat_minor": 0
}